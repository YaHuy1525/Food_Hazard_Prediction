{
 "cells": [
  {
   "cell_type": "markdown",
   "metadata": {},
   "source": [
    "# Food Hazard and Product Classification\n",
    "## Using Separate Models for Hazard and Product Categories"
   ]
  },
  {
   "cell_type": "code",
   "execution_count": 1,
   "metadata": {},
   "outputs": [
    {
     "name": "stderr",
     "output_type": "stream",
     "text": [
      "c:\\Program Files\\Python312\\Lib\\site-packages\\tqdm\\auto.py:21: TqdmWarning: IProgress not found. Please update jupyter and ipywidgets. See https://ipywidgets.readthedocs.io/en/stable/user_install.html\n",
      "  from .autonotebook import tqdm as notebook_tqdm\n"
     ]
    }
   ],
   "source": [
    "import pandas as pd\n",
    "import numpy as np\n",
    "import torch\n",
    "from torch.utils.data import Dataset, DataLoader\n",
    "from transformers import AutoTokenizer, AutoModelForSequenceClassification\n",
    "from sklearn.model_selection import train_test_split\n",
    "from sklearn.preprocessing import LabelEncoder\n",
    "from sklearn.metrics import classification_report\n",
    "import matplotlib.pyplot as plt\n",
    "import warnings\n",
    "warnings.filterwarnings('ignore')"
   ]
  },
  {
   "cell_type": "code",
   "execution_count": 2,
   "metadata": {},
   "outputs": [
    {
     "name": "stdout",
     "output_type": "stream",
     "text": [
      "Using device: cuda\n",
      "GPU: NVIDIA GeForce RTX 4060 Laptop GPU\n"
     ]
    }
   ],
   "source": [
    "device = torch.device('cuda' if torch.cuda.is_available() else 'cpu')\n",
    "print(f\"Using device: {device}\")\n",
    "if torch.cuda.is_available():\n",
    "    print(f\"GPU: {torch.cuda.get_device_name()}\")"
   ]
  },
  {
   "cell_type": "markdown",
   "metadata": {},
   "source": [
    "## Data Loading and Preprocessing"
   ]
  },
  {
   "cell_type": "code",
   "execution_count": 11,
   "metadata": {},
   "outputs": [
    {
     "name": "stdout",
     "output_type": "stream",
     "text": [
      "Dataset shape: (5984, 11)\n"
     ]
    },
    {
     "data": {
      "text/html": [
       "<div>\n",
       "<style scoped>\n",
       "    .dataframe tbody tr th:only-of-type {\n",
       "        vertical-align: middle;\n",
       "    }\n",
       "\n",
       "    .dataframe tbody tr th {\n",
       "        vertical-align: top;\n",
       "    }\n",
       "\n",
       "    .dataframe thead th {\n",
       "        text-align: right;\n",
       "    }\n",
       "</style>\n",
       "<table border=\"1\" class=\"dataframe\">\n",
       "  <thead>\n",
       "    <tr style=\"text-align: right;\">\n",
       "      <th></th>\n",
       "      <th>Unnamed: 0</th>\n",
       "      <th>year</th>\n",
       "      <th>month</th>\n",
       "      <th>day</th>\n",
       "      <th>country</th>\n",
       "      <th>title</th>\n",
       "      <th>text</th>\n",
       "      <th>hazard-category</th>\n",
       "      <th>product-category</th>\n",
       "      <th>hazard</th>\n",
       "      <th>product</th>\n",
       "    </tr>\n",
       "  </thead>\n",
       "  <tbody>\n",
       "    <tr>\n",
       "      <th>0</th>\n",
       "      <td>0</td>\n",
       "      <td>1994</td>\n",
       "      <td>1</td>\n",
       "      <td>7</td>\n",
       "      <td>us</td>\n",
       "      <td>Recall Notification: FSIS-024-94</td>\n",
       "      <td>Case Number: 024-94   \\n            Date Opene...</td>\n",
       "      <td>biological</td>\n",
       "      <td>meat, egg and dairy products</td>\n",
       "      <td>listeria monocytogenes</td>\n",
       "      <td>smoked sausage</td>\n",
       "    </tr>\n",
       "    <tr>\n",
       "      <th>1</th>\n",
       "      <td>1</td>\n",
       "      <td>1994</td>\n",
       "      <td>3</td>\n",
       "      <td>10</td>\n",
       "      <td>us</td>\n",
       "      <td>Recall Notification: FSIS-033-94</td>\n",
       "      <td>Case Number: 033-94   \\n            Date Opene...</td>\n",
       "      <td>biological</td>\n",
       "      <td>meat, egg and dairy products</td>\n",
       "      <td>listeria spp</td>\n",
       "      <td>sausage</td>\n",
       "    </tr>\n",
       "    <tr>\n",
       "      <th>2</th>\n",
       "      <td>2</td>\n",
       "      <td>1994</td>\n",
       "      <td>3</td>\n",
       "      <td>28</td>\n",
       "      <td>us</td>\n",
       "      <td>Recall Notification: FSIS-014-94</td>\n",
       "      <td>Case Number: 014-94   \\n            Date Opene...</td>\n",
       "      <td>biological</td>\n",
       "      <td>meat, egg and dairy products</td>\n",
       "      <td>listeria monocytogenes</td>\n",
       "      <td>ham slices</td>\n",
       "    </tr>\n",
       "    <tr>\n",
       "      <th>3</th>\n",
       "      <td>3</td>\n",
       "      <td>1994</td>\n",
       "      <td>4</td>\n",
       "      <td>3</td>\n",
       "      <td>us</td>\n",
       "      <td>Recall Notification: FSIS-009-94</td>\n",
       "      <td>Case Number: 009-94   \\n            Date Opene...</td>\n",
       "      <td>foreign bodies</td>\n",
       "      <td>meat, egg and dairy products</td>\n",
       "      <td>plastic fragment</td>\n",
       "      <td>thermal processed pork meat</td>\n",
       "    </tr>\n",
       "    <tr>\n",
       "      <th>4</th>\n",
       "      <td>4</td>\n",
       "      <td>1994</td>\n",
       "      <td>7</td>\n",
       "      <td>1</td>\n",
       "      <td>us</td>\n",
       "      <td>Recall Notification: FSIS-001-94</td>\n",
       "      <td>Case Number: 001-94   \\n            Date Opene...</td>\n",
       "      <td>foreign bodies</td>\n",
       "      <td>meat, egg and dairy products</td>\n",
       "      <td>plastic fragment</td>\n",
       "      <td>chicken breast</td>\n",
       "    </tr>\n",
       "  </tbody>\n",
       "</table>\n",
       "</div>"
      ],
      "text/plain": [
       "   Unnamed: 0  year  month  day country                             title  \\\n",
       "0           0  1994      1    7      us  Recall Notification: FSIS-024-94   \n",
       "1           1  1994      3   10      us  Recall Notification: FSIS-033-94   \n",
       "2           2  1994      3   28      us  Recall Notification: FSIS-014-94   \n",
       "3           3  1994      4    3      us  Recall Notification: FSIS-009-94   \n",
       "4           4  1994      7    1      us  Recall Notification: FSIS-001-94   \n",
       "\n",
       "                                                text hazard-category  \\\n",
       "0  Case Number: 024-94   \\n            Date Opene...      biological   \n",
       "1  Case Number: 033-94   \\n            Date Opene...      biological   \n",
       "2  Case Number: 014-94   \\n            Date Opene...      biological   \n",
       "3  Case Number: 009-94   \\n            Date Opene...  foreign bodies   \n",
       "4  Case Number: 001-94   \\n            Date Opene...  foreign bodies   \n",
       "\n",
       "               product-category                  hazard  \\\n",
       "0  meat, egg and dairy products  listeria monocytogenes   \n",
       "1  meat, egg and dairy products            listeria spp   \n",
       "2  meat, egg and dairy products  listeria monocytogenes   \n",
       "3  meat, egg and dairy products        plastic fragment   \n",
       "4  meat, egg and dairy products        plastic fragment   \n",
       "\n",
       "                       product  \n",
       "0               smoked sausage  \n",
       "1                      sausage  \n",
       "2                   ham slices  \n",
       "3  thermal processed pork meat  \n",
       "4               chicken breast  "
      ]
     },
     "execution_count": 11,
     "metadata": {},
     "output_type": "execute_result"
    }
   ],
   "source": [
    "# Load the labelled incidents data\n",
    "df = pd.read_csv('datas/incidents_labelled.csv')\n",
    "print(f\"Dataset shape: {df.shape}\")\n",
    "data_randomized = df.sample(frac=1, random_state=1)\n",
    "df.head()"
   ]
  },
  {
   "cell_type": "code",
   "execution_count": 12,
   "metadata": {},
   "outputs": [
    {
     "data": {
      "text/plain": [
       "'Imported biscuit may contain allergen (peanuts) The Centre for Food Safety (CFS) of the Food and Environmental Hygiene Department today (July 28) said that a kind of imported biscuit may contain an allergen, peanuts, but it was not declared on the product\\'s food label. Consumers who are allergic to peanuts are advised not to consume the affected batch of the product concerned. The trade should also stop using or selling the affected batch of the product immediately. Product details are as follows: Product name: Hazelnut Filled Biscuit Brand: CASINO Place of origin: France Packing size: 125 grams per pack Best before date: April 18, 2023 Importer: PARKnSHOP (HK) Limited A spokesman for the CFS said, \"The CFS received a notification from the Rapid Alert System for Food and Feed (RASFF) of the European Commission that ingredient used in the production of the above-mentioned product may contain an allergen, peanuts, but it was not declared on the product\\'s food label. According to the information provided by the RASFF, the affected product has been imported into Hong Kong. Upon learning of the incident, the CFS immediately contacted the above-mentioned local importer for follow-up. Preliminary investigation found that the above-mentioned importer had imported into Hong Kong the affected batch of the product concerned.\" The importer had stopped sale and removed from shelves the affected batch of the product. It has also initiated a recall according to the CFS\\' instructions. Members of the public may call the relevant importer\\'s hotline at 2606 8658 during office hours for enquiries about the recall. \"Peanuts are a known food allergen. Those who are allergic to it may develop symptoms like vomiting, diarrhoea, asthma and rash upon consumption. In severe cases anaphylactic shock may even develop. As for other members of the public, generally speaking, they would not be subject to such reactions when the food in question is consumed,\" the spokesman said. The spokesman urged consumers who are allergic to peanuts not to consume the affected batch of the products. Those who feel unwell after consuming them should seek medical treatment. The Food and Drugs (Composition and Labelling) Regulations (Cap 132W) require that all prepackaged food for sale in Hong Kong should list out the food\\'s ingredients in its label. The maximum penalty upon conviction is a fine of $50,000 and six months\\' imprisonment. The CFS will alert the trade, continue to follow up on the incident and take appropriate action. Investigation is on-going. Ends/Thursday, July 28, 2022'"
      ]
     },
     "execution_count": 12,
     "metadata": {},
     "output_type": "execute_result"
    }
   ],
   "source": [
    "import re\n",
    "df['title'] = df['title'].str.lower().str.replace('[^a-z\\s]', '', regex=True)\n",
    "\n",
    "def remove_pra_no(text):\n",
    "    pattern = r'PRA No\\. \\d+/\\d+'\n",
    "    return re.sub(pattern, '', text)\n",
    "\n",
    "df['text'] = df['text'].apply(remove_pra_no)\n",
    "df['text'][72]\n",
    "df['text'][5979]"
   ]
  },
  {
   "cell_type": "code",
   "execution_count": 13,
   "metadata": {},
   "outputs": [],
   "source": [
    "list = df['text'].tolist()\n",
    "def remove_newlines(text):\n",
    "    if isinstance(text, str):  \n",
    "        return text.replace('\\n', ' ')\n",
    "    return text  \n",
    "df['text'] = df['text'].apply(remove_newlines)"
   ]
  },
  {
   "cell_type": "markdown",
   "metadata": {},
   "source": [
    "Data Cleaning"
   ]
  },
  {
   "cell_type": "code",
   "execution_count": 14,
   "metadata": {},
   "outputs": [],
   "source": [
    "import re\n",
    "import string\n",
    "\n",
    "def clean_text(text):\n",
    "    \"\"\"\n",
    "    Clean input raw text for NLP model training.\n",
    "    Steps:\n",
    "    - Lowercase conversion\n",
    "    - Remove backslashes or escape chars\n",
    "    - Remove excessive whitespace\n",
    "    - Remove punctuation (optional, based on model needs)\n",
    "    - Remove non-ASCII (if needed, else can be adjusted)\n",
    "    \"\"\"\n",
    "    # Lowercase\n",
    "    text = text.lower()\n",
    "    # Remove backslashes and escape characters\n",
    "    text = text.replace(\"\\\\\", \"\")\n",
    "    # Remove punctuation except essential ones if needed (here we remove all)\n",
    "    text = text.translate(str.maketrans('', '', string.punctuation))\n",
    "    # Remove non-ASCII characters\n",
    "    text = text.encode('ascii', errors='ignore').decode()\n",
    "    # Normalize white space\n",
    "    text = re.sub(r'\\s+', ' ', text).strip()\n",
    "    return text\n",
    "df['text'] = df['text'].apply(clean_text)\n"
   ]
  },
  {
   "cell_type": "code",
   "execution_count": 26,
   "metadata": {},
   "outputs": [
    {
     "data": {
      "text/plain": [
       "'case number 01494 date opened 03281994 date closed 07191994 recall class 1 press release yn y domestic est number 00819 m name willow foods inc imported product yn n foreign estab number na city falls city state ne country usa product ham sliced problem bacteria description listeria total pounds recalled 3950 pounds recovered 3809'"
      ]
     },
     "execution_count": 26,
     "metadata": {},
     "output_type": "execute_result"
    }
   ],
   "source": [
    "df['text'][2]"
   ]
  },
  {
   "cell_type": "code",
   "execution_count": 27,
   "metadata": {},
   "outputs": [],
   "source": [
    "def extract_recall_case_info(text):\n",
    "    \"\"\"\n",
    "    Extract structured information from the recall case text.\n",
    "    Returns a dictionary with extracted fields or empty dict if info missing.\n",
    "    \"\"\"\n",
    "    info = {}\n",
    "    patterns = {\n",
    "        'case_number': r'case number\\s*(\\S+)',\n",
    "        'date_opened': r'date opened\\s*(\\S+)',\n",
    "        'date_closed': r'date closed\\s*(\\S+)',\n",
    "        'recall_class': r'recall class\\s*(\\S+)',\n",
    "        'press_release': r'press release\\s*yn\\s*(\\S+)',\n",
    "        'domestic_est_number': r'domestic est number\\s*(\\S+)',\n",
    "        'company_name': r'name\\s*(.*?)(?=\\s*imported product)',\n",
    "        'imported_product': r'imported product\\s*yn\\s*(\\S+)',\n",
    "        'foreign_estab_number': r'foreign estab number\\s*(.*?)(?=\\s*city)',\n",
    "        'city': r'city\\s*(\\S+)',\n",
    "        'state': r'state\\s*(\\S+)',\n",
    "        'country': r'country\\s*(\\S+)',\n",
    "        'product': r'product\\s*(.*?)(?=\\s*problem)',\n",
    "        'problem': r'problem\\s*(\\S+)',\n",
    "        'description': r'description\\s*(\\S+)',\n",
    "        'total_pounds_recalled': r'total pounds recalled\\s*([\\d,]+)',\n",
    "        'pounds_recovered': r'pounds recovered\\s*([\\d,]+)'\n",
    "    }\n",
    "    \n",
    "    for key, pattern in patterns.items():\n",
    "        match = re.search(pattern, text, re.IGNORECASE)\n",
    "        if match:\n",
    "            info[key] = match.group(1).strip()\n",
    "    return info"
   ]
  },
  {
   "cell_type": "code",
   "execution_count": 28,
   "metadata": {},
   "outputs": [
    {
     "data": {
      "text/plain": [
       "{'case_number': '01494',\n",
       " 'date_opened': '03281994',\n",
       " 'date_closed': '07191994',\n",
       " 'recall_class': '1',\n",
       " 'press_release': 'y',\n",
       " 'domestic_est_number': '00819',\n",
       " 'company_name': 'willow foods inc',\n",
       " 'imported_product': 'n',\n",
       " 'foreign_estab_number': 'na',\n",
       " 'city': 'falls',\n",
       " 'state': 'ne',\n",
       " 'country': 'usa',\n",
       " 'product': 'yn n foreign estab number na city falls city state ne country usa product ham sliced',\n",
       " 'problem': 'bacteria',\n",
       " 'description': 'listeria',\n",
       " 'total_pounds_recalled': '3950',\n",
       " 'pounds_recovered': '3809'}"
      ]
     },
     "execution_count": 28,
     "metadata": {},
     "output_type": "execute_result"
    }
   ],
   "source": [
    "extract_recall_case_info(df['text'][2])"
   ]
  },
  {
   "cell_type": "code",
   "execution_count": 17,
   "metadata": {},
   "outputs": [],
   "source": [
    "def extract_product_recall_info(text):\n",
    "    \"\"\"\n",
    "    Extract structured in formation from the product recall alert text.\n",
    "    Returns a dictionary with extracted fields or empty dict if info missing.\n",
    "    \"\"\"\n",
    "    info = {}\n",
    "    patterns = {\n",
    "        'product_name': r'product name:\\s*(.*?)(?=\\s*pack size:)',\n",
    "        'pack_size': r'pack size:\\s*(.*?)(?=\\s*use by date:)',\n",
    "        'use_by_date': r'use by date:\\s*(.*?)(?=\\s*allergen:)',\n",
    "        'allergen': r'allergen:\\s*(.*?)(?=\\s*do not eat)',\n",
    "        'description': r'description:\\s*(.*?)(?=\\s*if you have bought)',\n",
    "        'contact_info': r'contact the (.*?)(?=\\s*for a full refund)',\n",
    "        'refund_info': r'return it to your nearest (.*?)(?=\\s*for a full refund)'\n",
    "    }\n",
    "    \n",
    "    for key, pattern in patterns.items():\n",
    "        match = re.search(pattern, text, re.IGNORECASE)\n",
    "        if match:\n",
    "            info[key] = match.group(1).strip()\n",
    "    return info"
   ]
  },
  {
   "cell_type": "code",
   "execution_count": 18,
   "metadata": {},
   "outputs": [],
   "source": [
    "def process_batch(text_list):\n",
    "    \"\"\"\n",
    "    Process batch of raw text inputs.\n",
    "    Returns a list of dictionaries with cleaned text and extracted product info.\n",
    "    \"\"\"\n",
    "    processed = []\n",
    "    for raw_text in text_list:\n",
    "        cleaned = clean_text(raw_text)\n",
    "        if \"case number\" in cleaned:\n",
    "            recall_info = extract_recall_case_info(cleaned)\n",
    "        else:\n",
    "            recall_info = extract_product_recall_info(cleaned)\n",
    "        processed.append({'cleaned_text': cleaned, 'recall_info': recall_info})\n",
    "    return processed"
   ]
  },
  {
   "cell_type": "code",
   "execution_count": 19,
   "metadata": {},
   "outputs": [
    {
     "name": "stdout",
     "output_type": "stream",
     "text": [
      "Number of hazard categories: 10\n",
      "Number of product categories: 22\n",
      "['biological' 'biological' 'biological' ... 'biological' 'allergens'\n",
      " 'biological']\n",
      "[1 1 1 ... 1 0 1]\n"
     ]
    }
   ],
   "source": [
    "# Extract texts and labels\n",
    "texts = df['text'].values\n",
    "hazard_labels = df['hazard-category'].values\n",
    "product_labels = df['product-category'].values\n",
    "\n",
    "# Encode labels\n",
    "hazard_encoder = LabelEncoder()\n",
    "product_encoder = LabelEncoder()\n",
    "\n",
    "hazard_labels_encoded = hazard_encoder.fit_transform(hazard_labels)\n",
    "product_labels_encoded = product_encoder.fit_transform(product_labels)\n",
    "\n",
    "print(f\"Number of hazard categories: {len(hazard_encoder.classes_)}\")\n",
    "print(f\"Number of product categories: {len(product_encoder.classes_)}\")\n",
    "print(hazard_labels)\n",
    "print(hazard_labels_encoded)"
   ]
  },
  {
   "cell_type": "markdown",
   "metadata": {},
   "source": [
    "## Dataset and Model Classes"
   ]
  },
  {
   "cell_type": "code",
   "execution_count": 8,
   "metadata": {},
   "outputs": [],
   "source": [
    "class TextDataset(Dataset):\n",
    "    def __init__(self, texts, labels, tokenizer, max_length=512):\n",
    "        self.texts = texts\n",
    "        self.labels = labels\n",
    "        self.tokenizer = tokenizer\n",
    "        self.max_length = max_length\n",
    "\n",
    "    def __len__(self):\n",
    "        return len(self.texts)\n",
    "\n",
    "    def __getitem__(self, idx):\n",
    "        text = str(self.texts[idx])\n",
    "        label = self.labels[idx]\n",
    "        \n",
    "        encoding = self.tokenizer(\n",
    "            text,\n",
    "            max_length=self.max_length,\n",
    "            padding='max_length',\n",
    "            truncation=True,\n",
    "            return_tensors='pt'\n",
    "        )\n",
    "        \n",
    "        return {\n",
    "            'input_ids': encoding['input_ids'].flatten(),\n",
    "            'attention_mask': encoding['attention_mask'].flatten(),\n",
    "            'labels': torch.tensor(label, dtype=torch.long)\n",
    "        }"
   ]
  },
  {
   "cell_type": "markdown",
   "metadata": {},
   "source": [
    "## Model Training"
   ]
  },
  {
   "cell_type": "code",
   "execution_count": 9,
   "metadata": {},
   "outputs": [],
   "source": [
    "# Split data\n",
    "train_texts, val_texts, train_hazard_labels, val_hazard_labels, train_product_labels, val_product_labels = train_test_split(\n",
    "    texts, hazard_labels_encoded, product_labels_encoded,\n",
    "    test_size=0.2, random_state=42\n",
    ")"
   ]
  },
  {
   "cell_type": "code",
   "execution_count": 10,
   "metadata": {},
   "outputs": [
    {
     "name": "stderr",
     "output_type": "stream",
     "text": [
      "Some weights of BertForSequenceClassification were not initialized from the model checkpoint at bert-base-uncased and are newly initialized: ['classifier.bias', 'classifier.weight']\n",
      "You should probably TRAIN this model on a down-stream task to be able to use it for predictions and inference.\n",
      "Some weights of BertForSequenceClassification were not initialized from the model checkpoint at bert-base-uncased and are newly initialized: ['classifier.bias', 'classifier.weight']\n",
      "You should probably TRAIN this model on a down-stream task to be able to use it for predictions and inference.\n"
     ]
    }
   ],
   "source": [
    "# Initialize tokenizer and models\n",
    "model_name = \"bert-base-uncased\"\n",
    "tokenizer = AutoTokenizer.from_pretrained(model_name)\n",
    "\n",
    "hazard_model = AutoModelForSequenceClassification.from_pretrained(\n",
    "    model_name,\n",
    "    num_labels=len(hazard_encoder.classes_)\n",
    ").to(device)\n",
    "\n",
    "product_model = AutoModelForSequenceClassification.from_pretrained(\n",
    "    model_name,\n",
    "    num_labels=len(product_encoder.classes_)\n",
    ").to(device)"
   ]
  },
  {
   "cell_type": "code",
   "execution_count": 11,
   "metadata": {},
   "outputs": [],
   "source": [
    "def train_model(model, train_loader, val_loader, epochs=3):\n",
    "    optimizer = torch.optim.AdamW(model.parameters(), lr=2e-5)\n",
    "    train_losses = []\n",
    "    val_losses = []\n",
    "    \n",
    "    for epoch in range(epochs):\n",
    "        # Training\n",
    "        model.train()\n",
    "        total_loss = 0\n",
    "        \n",
    "        for batch in train_loader:\n",
    "            input_ids = batch['input_ids'].to(device)\n",
    "            attention_mask = batch['attention_mask'].to(device)\n",
    "            labels = batch['labels'].to(device)\n",
    "            \n",
    "            outputs = model(\n",
    "                input_ids=input_ids,\n",
    "                attention_mask=attention_mask,\n",
    "                labels=labels\n",
    "            )\n",
    "            \n",
    "            loss = outputs.loss\n",
    "            total_loss += loss.item()\n",
    "            \n",
    "            loss.backward()\n",
    "            optimizer.step()\n",
    "            optimizer.zero_grad()\n",
    "        \n",
    "        avg_train_loss = total_loss / len(train_loader)\n",
    "        train_losses.append(avg_train_loss)\n",
    "        \n",
    "        # Validation\n",
    "        model.eval()\n",
    "        val_loss = 0\n",
    "        all_preds = []\n",
    "        all_labels = []\n",
    "        \n",
    "        with torch.no_grad():\n",
    "            for batch in val_loader:\n",
    "                input_ids = batch['input_ids'].to(device)\n",
    "                attention_mask = batch['attention_mask'].to(device)\n",
    "                labels = batch['labels'].to(device)\n",
    "                \n",
    "                outputs = model(\n",
    "                    input_ids=input_ids,\n",
    "                    attention_mask=attention_mask,\n",
    "                    labels=labels\n",
    "                )\n",
    "                \n",
    "                val_loss += outputs.loss.item()\n",
    "                preds = torch.argmax(outputs.logits, dim=1)\n",
    "                \n",
    "                all_preds.extend(preds.cpu().numpy())\n",
    "                all_labels.extend(labels.cpu().numpy())\n",
    "        \n",
    "        avg_val_loss = val_loss / len(val_loader)\n",
    "        val_losses.append(avg_val_loss)\n",
    "        \n",
    "        print(f\"Epoch {epoch + 1}/{epochs}\")\n",
    "        print(f\"Training Loss: {avg_train_loss:.4f}\")\n",
    "        print(f\"Validation Loss: {avg_val_loss:.4f}\")\n",
    "        print(\"Classification Report:\")\n",
    "        print(classification_report(all_labels, all_preds))\n",
    "        \n",
    "    return train_losses, val_losses"
   ]
  },
  {
   "cell_type": "code",
   "execution_count": 12,
   "metadata": {},
   "outputs": [
    {
     "name": "stdout",
     "output_type": "stream",
     "text": [
      "Training hazard classification model...\n",
      "Epoch 1/3\n",
      "Training Loss: 0.7052\n",
      "Validation Loss: 0.3898\n",
      "Classification Report:\n",
      "              precision    recall  f1-score   support\n",
      "\n",
      "           0       0.91      0.99      0.95       377\n",
      "           1       0.97      0.97      0.97       398\n",
      "           2       0.77      0.97      0.86       107\n",
      "           3       0.00      0.00      0.00         7\n",
      "           4       0.93      0.96      0.94       166\n",
      "           5       0.57      0.42      0.48        77\n",
      "           6       0.00      0.00      0.00         1\n",
      "           7       0.50      0.23      0.32        13\n",
      "           8       0.60      0.18      0.28        33\n",
      "           9       0.75      0.33      0.46        18\n",
      "\n",
      "    accuracy                           0.89      1197\n",
      "   macro avg       0.60      0.51      0.53      1197\n",
      "weighted avg       0.88      0.89      0.88      1197\n",
      "\n",
      "Epoch 2/3\n",
      "Training Loss: 0.3123\n",
      "Validation Loss: 0.4063\n",
      "Classification Report:\n",
      "              precision    recall  f1-score   support\n",
      "\n",
      "           0       0.86      1.00      0.92       377\n",
      "           1       0.90      0.98      0.94       398\n",
      "           2       0.86      0.89      0.87       107\n",
      "           3       0.00      0.00      0.00         7\n",
      "           4       0.99      0.94      0.97       166\n",
      "           5       0.78      0.27      0.40        77\n",
      "           6       0.00      0.00      0.00         1\n",
      "           7       0.60      0.23      0.33        13\n",
      "           8       0.38      0.15      0.22        33\n",
      "           9       0.67      0.56      0.61        18\n",
      "\n",
      "    accuracy                           0.88      1197\n",
      "   macro avg       0.60      0.50      0.53      1197\n",
      "weighted avg       0.86      0.88      0.86      1197\n",
      "\n",
      "Epoch 3/3\n",
      "Training Loss: 0.2116\n",
      "Validation Loss: 0.3106\n",
      "Classification Report:\n",
      "              precision    recall  f1-score   support\n",
      "\n",
      "           0       0.93      0.97      0.95       377\n",
      "           1       0.97      0.98      0.98       398\n",
      "           2       0.80      0.96      0.87       107\n",
      "           3       1.00      0.57      0.73         7\n",
      "           4       0.98      0.96      0.97       166\n",
      "           5       0.69      0.49      0.58        77\n",
      "           6       0.00      0.00      0.00         1\n",
      "           7       0.71      0.77      0.74        13\n",
      "           8       0.83      0.58      0.68        33\n",
      "           9       0.71      0.67      0.69        18\n",
      "\n",
      "    accuracy                           0.92      1197\n",
      "   macro avg       0.76      0.69      0.72      1197\n",
      "weighted avg       0.92      0.92      0.91      1197\n",
      "\n"
     ]
    }
   ],
   "source": [
    "# Create datasets and dataloaders for hazard classification\n",
    "train_hazard_dataset = TextDataset(train_texts, train_hazard_labels, tokenizer)\n",
    "val_hazard_dataset = TextDataset(val_texts, val_hazard_labels, tokenizer)\n",
    "\n",
    "train_hazard_loader = DataLoader(train_hazard_dataset, batch_size=8, shuffle=True)\n",
    "val_hazard_loader = DataLoader(val_hazard_dataset, batch_size=8)\n",
    "\n",
    "# Train hazard model\n",
    "print(\"Training hazard classification model...\")\n",
    "hazard_train_losses, hazard_val_losses = train_model(hazard_model, train_hazard_loader, val_hazard_loader)"
   ]
  },
  {
   "cell_type": "code",
   "execution_count": 13,
   "metadata": {},
   "outputs": [
    {
     "name": "stdout",
     "output_type": "stream",
     "text": [
      "Training product classification model...\n",
      "Epoch 1/3\n",
      "Training Loss: 1.9528\n",
      "Validation Loss: 1.3307\n",
      "Classification Report:\n",
      "              precision    recall  f1-score   support\n",
      "\n",
      "           0       0.00      0.00      0.00        14\n",
      "           1       0.67      0.66      0.66       149\n",
      "           2       0.45      0.70      0.55        44\n",
      "           3       1.00      0.08      0.15        38\n",
      "           4       0.75      0.19      0.31        31\n",
      "           5       0.67      0.50      0.57         4\n",
      "           6       0.00      0.00      0.00         3\n",
      "           7       0.00      0.00      0.00         1\n",
      "           8       0.00      0.00      0.00         1\n",
      "           9       0.44      0.84      0.58       127\n",
      "          10       0.50      0.03      0.06        34\n",
      "          11       0.00      0.00      0.00         2\n",
      "          12       0.97      0.65      0.78        52\n",
      "          13       0.83      0.88      0.86       351\n",
      "          14       0.45      0.69      0.55        29\n",
      "          15       0.64      0.57      0.60        68\n",
      "          16       0.00      0.00      0.00        15\n",
      "          17       0.00      0.00      0.00         2\n",
      "          18       0.49      0.41      0.45       107\n",
      "          19       0.70      0.78      0.74        68\n",
      "          20       0.66      0.47      0.55        57\n",
      "\n",
      "    accuracy                           0.65      1197\n",
      "   macro avg       0.44      0.36      0.35      1197\n",
      "weighted avg       0.66      0.65      0.62      1197\n",
      "\n",
      "Epoch 2/3\n",
      "Training Loss: 1.0857\n",
      "Validation Loss: 1.1485\n",
      "Classification Report:\n",
      "              precision    recall  f1-score   support\n",
      "\n",
      "           0       0.88      0.50      0.64        14\n",
      "           1       0.55      0.73      0.63       149\n",
      "           2       0.47      0.84      0.60        44\n",
      "           3       0.57      0.21      0.31        38\n",
      "           4       0.38      0.65      0.48        31\n",
      "           5       0.67      0.50      0.57         4\n",
      "           6       0.00      0.00      0.00         3\n",
      "           7       0.00      0.00      0.00         1\n",
      "           8       0.00      0.00      0.00         1\n",
      "           9       0.77      0.71      0.74       127\n",
      "          10       0.49      0.50      0.49        34\n",
      "          11       0.00      0.00      0.00         2\n",
      "          12       0.92      0.69      0.79        52\n",
      "          13       0.84      0.91      0.87       351\n",
      "          14       0.51      0.66      0.58        29\n",
      "          15       0.73      0.75      0.74        68\n",
      "          16       0.00      0.00      0.00        15\n",
      "          17       0.00      0.00      0.00         2\n",
      "          18       0.67      0.30      0.41       107\n",
      "          19       0.82      0.75      0.78        68\n",
      "          20       0.69      0.60      0.64        57\n",
      "\n",
      "    accuracy                           0.70      1197\n",
      "   macro avg       0.47      0.44      0.44      1197\n",
      "weighted avg       0.70      0.70      0.68      1197\n",
      "\n",
      "Epoch 3/3\n",
      "Training Loss: 0.7230\n",
      "Validation Loss: 1.1182\n",
      "Classification Report:\n",
      "              precision    recall  f1-score   support\n",
      "\n",
      "           0       0.82      0.64      0.72        14\n",
      "           1       0.53      0.76      0.63       149\n",
      "           2       0.76      0.80      0.78        44\n",
      "           3       0.43      0.58      0.49        38\n",
      "           4       0.60      0.68      0.64        31\n",
      "           5       0.67      0.50      0.57         4\n",
      "           6       0.00      0.00      0.00         3\n",
      "           7       0.00      0.00      0.00         1\n",
      "           8       0.00      0.00      0.00         1\n",
      "           9       0.72      0.78      0.75       127\n",
      "          10       0.68      0.56      0.61        34\n",
      "          11       0.00      0.00      0.00         2\n",
      "          12       0.90      0.73      0.81        52\n",
      "          13       0.85      0.86      0.86       351\n",
      "          14       0.69      0.62      0.65        29\n",
      "          15       0.66      0.75      0.70        68\n",
      "          16       1.00      0.07      0.12        15\n",
      "          17       1.00      1.00      1.00         2\n",
      "          18       0.54      0.38      0.45       107\n",
      "          19       0.86      0.75      0.80        68\n",
      "          20       0.76      0.49      0.60        57\n",
      "\n",
      "    accuracy                           0.71      1197\n",
      "   macro avg       0.59      0.52      0.53      1197\n",
      "weighted avg       0.72      0.71      0.70      1197\n",
      "\n"
     ]
    }
   ],
   "source": [
    "# Create datasets and dataloaders for product classification\n",
    "train_product_dataset = TextDataset(train_texts, train_product_labels, tokenizer)\n",
    "val_product_dataset = TextDataset(val_texts, val_product_labels, tokenizer)\n",
    "\n",
    "train_product_loader = DataLoader(train_product_dataset, batch_size=8, shuffle=True)\n",
    "val_product_loader = DataLoader(val_product_dataset, batch_size=8)\n",
    "\n",
    "# Train product model\n",
    "print(\"Training product classification model...\")\n",
    "product_train_losses, product_val_losses = train_model(product_model, train_product_loader, val_product_loader)"
   ]
  },
  {
   "cell_type": "markdown",
   "metadata": {},
   "source": [
    "## Making Predictions"
   ]
  },
  {
   "cell_type": "code",
   "execution_count": 14,
   "metadata": {},
   "outputs": [],
   "source": [
    "# Load submission data\n",
    "submission_df = pd.read_csv('submission.csv')\n",
    "submission_texts = submission_df['text'].values\n",
    "\n",
    "# Create submission dataset\n",
    "submission_dataset = TextDataset(submission_texts, [0]*len(submission_texts), tokenizer)\n",
    "submission_loader = DataLoader(submission_dataset, batch_size=8)"
   ]
  },
  {
   "cell_type": "code",
   "execution_count": 15,
   "metadata": {},
   "outputs": [],
   "source": [
    "def make_predictions(model, dataloader):\n",
    "    model.eval()\n",
    "    predictions = []\n",
    "    \n",
    "    with torch.no_grad():\n",
    "        for batch in dataloader:\n",
    "            input_ids = batch['input_ids'].to(device)\n",
    "            attention_mask = batch['attention_mask'].to(device)\n",
    "            \n",
    "            outputs = model(\n",
    "                input_ids=input_ids,\n",
    "                attention_mask=attention_mask\n",
    "            )\n",
    "            \n",
    "            preds = torch.argmax(outputs.logits, dim=1)\n",
    "            predictions.extend(preds.cpu().numpy())\n",
    "    \n",
    "    return predictions"
   ]
  },
  {
   "cell_type": "code",
   "execution_count": 16,
   "metadata": {},
   "outputs": [
    {
     "name": "stdout",
     "output_type": "stream",
     "text": [
      "Predictions saved to separated_predictions.csv\n"
     ]
    }
   ],
   "source": [
    "# Make predictions\n",
    "hazard_predictions = make_predictions(hazard_model, submission_loader)\n",
    "product_predictions = make_predictions(product_model, submission_loader)\n",
    "\n",
    "# Decode predictions\n",
    "hazard_categories = hazard_encoder.inverse_transform(hazard_predictions)\n",
    "product_categories = product_encoder.inverse_transform(product_predictions)\n",
    "\n",
    "# Create submission dataframe\n",
    "submission_df['hazard-category'] = hazard_categories\n",
    "submission_df['product-category'] = product_categories\n",
    "\n",
    "# Save predictions\n",
    "submission_df.to_csv('separated_predictions.csv', index=False)\n",
    "print(\"Predictions saved to separated_predictions.csv\")"
   ]
  },
  {
   "cell_type": "markdown",
   "metadata": {},
   "source": [
    "## Model Evaluation"
   ]
  },
  {
   "cell_type": "code",
   "execution_count": 17,
   "metadata": {},
   "outputs": [
    {
     "data": {
      "image/png": "[encoded data removed]",
      "text/plain": [
       "<Figure size 1200x500 with 2 Axes>"
      ]
     },
     "metadata": {},
     "output_type": "display_data"
    }
   ],
   "source": [
    "# Plot training and validation losses\n",
    "plt.figure(figsize=(12, 5))\n",
    "\n",
    "plt.subplot(1, 2, 1)\n",
    "plt.plot(hazard_train_losses, label='Training Loss')\n",
    "plt.plot(hazard_val_losses, label='Validation Loss')\n",
    "plt.title('Hazard Classification Loss')\n",
    "plt.xlabel('Epoch')\n",
    "plt.ylabel('Loss')\n",
    "plt.legend()\n",
    "\n",
    "plt.subplot(1, 2, 2)\n",
    "plt.plot(product_train_losses, label='Training Loss')\n",
    "plt.plot(product_val_losses, label='Validation Loss')\n",
    "plt.title('Product Classification Loss')\n",
    "plt.xlabel('Epoch')\n",
    "plt.ylabel('Loss')\n",
    "plt.legend()\n",
    "\n",
    "plt.tight_layout()\n",
    "plt.show()"
   ]
  }
 ],
 "metadata": {
  "kernelspec": {
   "display_name": "Python 3",
   "language": "python",
   "name": "python3"
  },
  "language_info": {
   "codemirror_mode": {
    "name": "ipython",
    "version": 3
   },
   "file_extension": ".py",
   "mimetype": "text/x-python",
   "name": "python",
   "nbconvert_exporter": "python",
   "pygments_lexer": "ipython3",
   "version": "3.12.9"
  }
 },
 "nbformat": 4,
 "nbformat_minor": 4
}
